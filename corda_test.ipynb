{
 "cells": [
  {
   "cell_type": "code",
   "execution_count": 14,
   "metadata": {
    "collapsed": true
   },
   "outputs": [],
   "source": [
    "from corda import CORDA\n",
    "from corda import reaction_confidence\n",
    "from cobra.io import read_sbml_model\n",
    "from cobra.core import get_solution\n",
    "from pandas import read_csv\n",
    "import urllib\n",
    "import matplotlib.pyplot as plt\n",
    "%matplotlib inline"
   ]
  },
  {
   "cell_type": "code",
   "execution_count": 9,
   "metadata": {
    "collapsed": false
   },
   "outputs": [],
   "source": [
    "expr_dat = read_csv(\"https://raw.githubusercontent.com/jotech/sysbio-nb/master/dat/gene_state.csv\")\n",
    "urllib.urlretrieve(\"https://raw.githubusercontent.com/jotech/sysbio-nb/master/dat/recon2v04.xml\", \"recon2v04.xml\")\n",
    "mod = read_sbml_model(\"recon2v04.xml\")"
   ]
  },
  {
   "cell_type": "code",
   "execution_count": 15,
   "metadata": {
    "collapsed": false
   },
   "outputs": [
    {
     "data": {
      "text/plain": [
       "(array([ 1052.,     0.,  5381.,     0.,     0.,     0.,     0.,     0.,\n",
       "            0.,  1007.]),\n",
       " array([-1. , -0.6, -0.2,  0.2,  0.6,  1. ,  1.4,  1.8,  2.2,  2.6,  3. ]),\n",
       " <a list of 10 Patch objects>)"
      ]
     },
     "execution_count": 15,
     "metadata": {},
     "output_type": "execute_result"
    },
    {
     "data": {
      "image/png": "[encoded data removed]",
      "text/plain": [
       "<matplotlib.figure.Figure at 0x7fe6bc5ea210>"
      ]
     },
     "metadata": {},
     "output_type": "display_data"
    }
   ],
   "source": [
    "conf_gen = {g.id:0 for g in mod.genes}\n",
    "datG = expr_dat[\"Unnamed: 0\"]\n",
    "rank = expr_dat[\"CD_ni_TILE\"]\n",
    "for i,g in enumerate(datG):\n",
    "    gid = str(g)+\".1\"\n",
    "    if gid in conf_gen:\n",
    "        if rank[i] == 1:\n",
    "            level = 3\n",
    "        elif rank[i] == 0:\n",
    "            level = -1\n",
    "        conf_gen[gid] = level\n",
    "        \n",
    "conf_rea = {}\n",
    "for r in mod.reactions:\n",
    "    # corda has problems with '.' in gene ids => remove '.'\n",
    "    gpr = r.gene_reaction_rule.replace(\".\",\"\") \n",
    "    conf= {g.id.replace(\".\",\"\"):conf_gen[g.id] for g in r.genes}\n",
    "    conf_rea[r.id] = reaction_confidence(gpr, conf)\n",
    "plt.hist(conf_rea.values())"
   ]
  },
  {
   "cell_type": "code",
   "execution_count": 16,
   "metadata": {
    "collapsed": false
   },
   "outputs": [
    {
     "name": "stdout",
     "output_type": "stream",
     "text": [
      "CPU times: user 15min 26s, sys: 2.11 s, total: 15min 28s\n",
      "Wall time: 15min 27s\n"
     ]
    }
   ],
   "source": [
    "opt = CORDA(mod, conf_rea)\n",
    "%time opt.build()"
   ]
  },
  {
   "cell_type": "code",
   "execution_count": 17,
   "metadata": {
    "collapsed": false
   },
   "outputs": [
    {
     "data": {
      "text/plain": [
       "(array([    0.,     0.,     0.,     0.,     0.,  7440.,     0.,     0.,\n",
       "            0.,     0.]),\n",
       " array([-0.5, -0.4, -0.3, -0.2, -0.1,  0. ,  0.1,  0.2,  0.3,  0.4,  0.5]),\n",
       " <a list of 10 Patch objects>)"
      ]
     },
     "execution_count": 17,
     "metadata": {},
     "output_type": "execute_result"
    },
    {
     "data": {
      "image/png": "[encoded data removed]",
      "text/plain": [
       "<matplotlib.figure.Figure at 0x7fe6b3b12190>"
      ]
     },
     "metadata": {},
     "output_type": "display_data"
    }
   ],
   "source": [
    "# get glpk solutions from corda optimization\n",
    "# https://github.com/resendislab/corda/issues/7\n",
    "#\n",
    "corda_sol = get_solution(opt.model)\n",
    "plt.hist(corda_sol.fluxes.values)"
   ]
  },
  {
   "cell_type": "code",
   "execution_count": 18,
   "metadata": {
    "collapsed": false
   },
   "outputs": [
    {
     "name": "stdout",
     "output_type": "stream",
     "text": [
      "build status: reconstruction complete\n",
      "Inc. reactions: 2519/7440\n",
      " - unclear: 1541/5381\n",
      " - exclude: 159/1052\n",
      " - low and medium: 0/0\n",
      " - high: 819/1007\n",
      "\n"
     ]
    }
   ],
   "source": [
    "# statistics for model\n",
    "\n",
    "print opt\n",
    "new = opt.cobra_model()"
   ]
  }
 ],
 "metadata": {
  "kernelspec": {
   "display_name": "Python 2",
   "language": "python",
   "name": "python2"
  },
  "language_info": {
   "codemirror_mode": {
    "name": "ipython",
    "version": 2
   },
   "file_extension": ".py",
   "mimetype": "text/x-python",
   "name": "python",
   "nbconvert_exporter": "python",
   "pygments_lexer": "ipython2",
   "version": "2.7.13"
  }
 },
 "nbformat": 4,
 "nbformat_minor": 1
}
