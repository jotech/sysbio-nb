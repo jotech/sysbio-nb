{
 "metadata": {
  "name": "",
  "signature": "sha256:92b4a8c1da5f7e51949f55a995562bc15b313dff3b9ed03b542124ea1f77c354"
 },
 "nbformat": 3,
 "nbformat_minor": 0,
 "worksheets": [
  {
   "cells": [
    {
     "cell_type": "heading",
     "level": 1,
     "metadata": {},
     "source": [
      "E. coli normal aerobic growth (glc/o2)"
     ]
    },
    {
     "cell_type": "code",
     "collapsed": false,
     "input": [
      "import cobra.test"
     ],
     "language": "python",
     "metadata": {},
     "outputs": [],
     "prompt_number": 3
    },
    {
     "cell_type": "code",
     "collapsed": false,
     "input": [
      "ecoli_model = cobra.test.create_test_model(\"ecoli\")"
     ],
     "language": "python",
     "metadata": {},
     "outputs": [],
     "prompt_number": 4
    },
    {
     "cell_type": "code",
     "collapsed": false,
     "input": [
      "ecoli_model.optimize()"
     ],
     "language": "python",
     "metadata": {},
     "outputs": [
      {
       "metadata": {},
       "output_type": "pyout",
       "prompt_number": 5,
       "text": [
        "<Solution 0.98 at 0x7f94dbdcc210>"
       ]
      }
     ],
     "prompt_number": 5
    },
    {
     "cell_type": "code",
     "collapsed": false,
     "input": [
      "{x: ecoli_model.solution.x_dict[x] for x in ecoli_model.solution.x_dict if x[0:3]==\"EX_\" and ecoli_model.solution.x_dict[x]<-0.1}"
     ],
     "language": "python",
     "metadata": {},
     "outputs": [
      {
       "metadata": {},
       "output_type": "pyout",
       "prompt_number": 6,
       "text": [
        "{'EX_glc_e': -10.0,\n",
        " 'EX_k_e': -0.191752101241627,\n",
        " 'EX_nh4_e': -10.610425051824443,\n",
        " 'EX_o2_e': -17.57893353025412,\n",
        " 'EX_pi_e': -0.9476263040813258,\n",
        " 'EX_so4_e': -0.24776399488788398}"
       ]
      }
     ],
     "prompt_number": 6
    },
    {
     "cell_type": "code",
     "collapsed": false,
     "input": [
      "{x: ecoli_model.solution.x_dict[x] for x in ecoli_model.solution.x_dict if x[0:3]==\"EX_\" and ecoli_model.solution.x_dict[x]>0.1}"
     ],
     "language": "python",
     "metadata": {},
     "outputs": [
      {
       "metadata": {},
       "output_type": "pyout",
       "prompt_number": 7,
       "text": [
        "{'EX_co2_e': 19.67522263566369,\n",
        " 'EX_h2o_e': 45.619430370033434,\n",
        " 'EX_h_e': 9.026260125595464}"
       ]
      }
     ],
     "prompt_number": 7
    },
    {
     "cell_type": "heading",
     "level": 1,
     "metadata": {},
     "source": [
      "Test if E. coli can fix carbon"
     ]
    },
    {
     "cell_type": "code",
     "collapsed": false,
     "input": [
      "from cobra import Model, Reaction, Metabolite"
     ],
     "language": "python",
     "metadata": {},
     "outputs": [],
     "prompt_number": 8
    },
    {
     "cell_type": "code",
     "collapsed": false,
     "input": [
      "ecoli_model.reactions.get_by_id(\"EX_glc_e\").lower_bound = 0\n",
      "ecoli_model.reactions.get_by_id(\"EX_o2_e\").lower_bound = 0"
     ],
     "language": "python",
     "metadata": {},
     "outputs": [],
     "prompt_number": 21
    },
    {
     "cell_type": "code",
     "collapsed": false,
     "input": [
      "ex_co2 = ecoli_model.reactions.get_by_id(\"EX_co2_e\")\n",
      "ex_co2.lower_bound"
     ],
     "language": "python",
     "metadata": {},
     "outputs": [
      {
       "metadata": {},
       "output_type": "pyout",
       "prompt_number": 22,
       "text": [
        "-1000.0"
       ]
      }
     ],
     "prompt_number": 22
    },
    {
     "cell_type": "code",
     "collapsed": false,
     "input": [
      "nadph_tmp = Reaction(\"nadph_tmp\")\n",
      "nadph_tmp.add_metabolites({ecoli_model.metabolites.get_by_id(\"h_c\"):-1.0,\n",
      "                           ecoli_model.metabolites.get_by_id(\"nadp_c\"):-1.0,\n",
      "                           ecoli_model.metabolites.get_by_id(\"nadph_c\"):1.0})\n",
      "nadph_tmp.lower_bound=-1000\n",
      "ecoli_model.add_reaction(nadph_tmp)"
     ],
     "language": "python",
     "metadata": {},
     "outputs": [],
     "prompt_number": 15
    },
    {
     "cell_type": "code",
     "collapsed": false,
     "input": [
      "ecoli_model.optimize()"
     ],
     "language": "python",
     "metadata": {},
     "outputs": [
      {
       "metadata": {},
       "output_type": "pyout",
       "prompt_number": 23,
       "text": [
        "<Solution 1.50 at 0x7f94dbdcc190>"
       ]
      }
     ],
     "prompt_number": 23
    },
    {
     "cell_type": "code",
     "collapsed": false,
     "input": [
      "{x: ecoli_model.solution.x_dict[x] for x in ecoli_model.solution.x_dict if x[0:3]==\"EX_\" and ecoli_model.solution.x_dict[x]<-0.1}"
     ],
     "language": "python",
     "metadata": {},
     "outputs": [
      {
       "metadata": {},
       "output_type": "pyout",
       "prompt_number": 24,
       "text": [
        "{'EX_co2_e': -812.698876088103,\n",
        " 'EX_h_e': -1000.0,\n",
        " 'EX_k_e': -0.2921194033393144,\n",
        " 'EX_nh4_e': -16.164156821465046,\n",
        " 'EX_pi_e': -1.4436349262635841,\n",
        " 'EX_so4_e': -0.37744916424362485}"
       ]
      }
     ],
     "prompt_number": 24
    },
    {
     "cell_type": "code",
     "collapsed": false,
     "input": [
      "{x: ecoli_model.solution.x_dict[x] for x in ecoli_model.solution.x_dict if x[0:3]==\"EX_\" and ecoli_model.solution.x_dict[x]>0.1}"
     ],
     "language": "python",
     "metadata": {},
     "outputs": [
      {
       "metadata": {},
       "output_type": "pyout",
       "prompt_number": 25,
       "text": [
        "{'EX_for_e': 749.2776439126377,\n",
        " 'EX_h2o_e': 109.3319464653641,\n",
        " 'EX_succ_e': 0.49605808563044007}"
       ]
      }
     ],
     "prompt_number": 25
    },
    {
     "cell_type": "code",
     "collapsed": false,
     "input": [],
     "language": "python",
     "metadata": {},
     "outputs": []
    }
   ],
   "metadata": {}
  }
 ]
}