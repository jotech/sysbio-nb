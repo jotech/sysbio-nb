{
 "metadata": {
  "name": "",
  "signature": "sha256:549267a76b6d5bc28ba3e4f989dc3adf0bf86e2d58c0da963c2e6dec049f7e30"
 },
 "nbformat": 3,
 "nbformat_minor": 0,
 "worksheets": [
  {
   "cells": [
    {
     "cell_type": "code",
     "collapsed": false,
     "input": [
      "import cobra\n",
      "from cobra.test import create_test_model"
     ],
     "language": "python",
     "metadata": {},
     "outputs": [],
     "prompt_number": 1
    },
    {
     "cell_type": "markdown",
     "metadata": {},
     "source": [
      "# Succinate\n",
      "- no anaerobic growth"
     ]
    },
    {
     "cell_type": "code",
     "collapsed": false,
     "input": [
      "model = create_test_model(\"ecoli\")\n",
      "\n",
      "model.reactions.EX_succ_e.lower_bound = -10\n",
      "model.reactions.EX_glc_e.lower_bound = 0\n",
      "#model.reactions.EX_o2_e.lower_bound = 0\n",
      "\n",
      "model.optimize()\n",
      "print \"rate:\", model.solution.f\n",
      "{x:round(model.solution.x_dict[x],2) for x in model.solution.x_dict if x[:3]==\"EX_\" and abs(model.solution.x_dict[x])>0.1}"
     ],
     "language": "python",
     "metadata": {},
     "outputs": [
      {
       "output_type": "stream",
       "stream": "stdout",
       "text": [
        "rate: 0.492484215242\n"
       ]
      },
      {
       "metadata": {},
       "output_type": "pyout",
       "prompt_number": 21,
       "text": [
        "{'EX_co2_e': 19.78,\n",
        " 'EX_h2o_e': 22.79,\n",
        " 'EX_h_e': -15.47,\n",
        " 'EX_nh4_e': -5.32,\n",
        " 'EX_o2_e': -13.73,\n",
        " 'EX_pi_e': -0.48,\n",
        " 'EX_so4_e': -0.12,\n",
        " 'EX_succ_e': -10.0}"
       ]
      }
     ],
     "prompt_number": 21
    },
    {
     "cell_type": "markdown",
     "metadata": {},
     "source": [
      "#fructose\n",
      "- aerbobe+anaerobic growth"
     ]
    },
    {
     "cell_type": "code",
     "collapsed": false,
     "input": [
      "model = create_test_model(\"ecoli\")\n",
      "\n",
      "model.reactions.EX_fru_e.lower_bound = -10\n",
      "model.reactions.EX_glc_e.lower_bound = 0\n",
      "model.reactions.EX_o2_e.lower_bound = 0\n",
      "\n",
      "\n",
      "model.optimize()\n",
      "print \"rate:\", model.solution.f\n",
      "{x:round(model.solution.x_dict[x],2) for x in model.solution.x_dict if x[:3]==\"EX_\" and abs(model.solution.x_dict[x])>0.1}"
     ],
     "language": "python",
     "metadata": {},
     "outputs": [
      {
       "output_type": "stream",
       "stream": "stdout",
       "text": [
        "rate: 0.241501557097\n"
       ]
      },
      {
       "metadata": {},
       "output_type": "pyout",
       "prompt_number": 19,
       "text": [
        "{'EX_ac_e': 8.21,\n",
        " 'EX_etoh_e': 8.08,\n",
        " 'EX_for_e': 17.28,\n",
        " 'EX_fru_e': -10.0,\n",
        " 'EX_h2o_e': -1.71,\n",
        " 'EX_h_e': 27.87,\n",
        " 'EX_nh4_e': -2.61,\n",
        " 'EX_pi_e': -0.23}"
       ]
      }
     ],
     "prompt_number": 19
    },
    {
     "cell_type": "code",
     "collapsed": false,
     "input": [
      "model = create_test_model(\"ecoli\")\n",
      "\n",
      "model.reactions.EX_o2_e.lower_bound = -18.5\n",
      "model.reactions.EX_glc_e.lower_bound = 0\n",
      "model.reactions.EX_fru_e.lower_bound = -10\n",
      "model.reactions.EX_succ_e.lower_bound = -10\n",
      "\n",
      "\n",
      "model.optimize()\n",
      "print \"rate:\", model.solution.f\n",
      "{x:round(model.solution.x_dict[x],2) for x in model.solution.x_dict if x[:3]==\"EX_\" and abs(model.solution.x_dict[x])>0.1}"
     ],
     "language": "python",
     "metadata": {},
     "outputs": [
      {
       "output_type": "stream",
       "stream": "stdout",
       "text": [
        "rate: 1.08956820994\n"
       ]
      },
      {
       "metadata": {},
       "output_type": "pyout",
       "prompt_number": 18,
       "text": [
        "{'EX_ac_e': 12.51,\n",
        " 'EX_co2_e': 21.4,\n",
        " 'EX_for_e': 8.85,\n",
        " 'EX_fru_e': -10.0,\n",
        " 'EX_h2o_e': 40.17,\n",
        " 'EX_h_e': 11.38,\n",
        " 'EX_k_e': -0.21,\n",
        " 'EX_nh4_e': -11.77,\n",
        " 'EX_o2_e': -18.5,\n",
        " 'EX_pi_e': -1.05,\n",
        " 'EX_so4_e': -0.27,\n",
        " 'EX_succ_e': -10.0}"
       ]
      }
     ],
     "prompt_number": 18
    }
   ],
   "metadata": {}
  }
 ]
}