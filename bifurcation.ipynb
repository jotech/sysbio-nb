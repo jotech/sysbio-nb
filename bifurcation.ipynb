{
 "metadata": {
  "name": "",
  "signature": "sha256:69a22f2f20c2371fb81f6d5c6764f8a64fd29da508d17495e5eb2684af708d66"
 },
 "nbformat": 3,
 "nbformat_minor": 0,
 "worksheets": [
  {
   "cells": [
    {
     "cell_type": "heading",
     "level": 1,
     "metadata": {},
     "source": [
      "Simulating a biochemical network with hopf bifurcation"
     ]
    },
    {
     "cell_type": "raw",
     "metadata": {},
     "source": [
      "Let's consider the following reaction networks:\n",
      "\n",
      " (1) X + A --> C + A\n",
      " (2) A + C --> C\n",
      " (3) C -->\n",
      " (4) A --> B\n",
      " (5) B --> C\n",
      "\n",
      "X is an external inflow and in the second reaction A could be regarded as enzyme (as well as C in the third)."
     ]
    },
    {
     "cell_type": "code",
     "collapsed": false,
     "input": [
      "from sympy import *\n",
      "from sympy.abc import x\n",
      "init_printing()"
     ],
     "language": "python",
     "metadata": {},
     "outputs": [],
     "prompt_number": 19
    },
    {
     "cell_type": "heading",
     "level": 3,
     "metadata": {},
     "source": [
      "Defining the differential equations"
     ]
    },
    {
     "cell_type": "raw",
     "metadata": {},
     "source": [
      "Differential equations for the concentrations of a, b and c will be set up using using the rate law (mass action kinetics)."
     ]
    },
    {
     "cell_type": "code",
     "collapsed": false,
     "input": [
      "a, b, c = symbols('a b c')\n",
      "k1, k2, k3, k4, k5 = symbols('k1 k2 k3 k4 k5')\n",
      "x = symbols('x')"
     ],
     "language": "python",
     "metadata": {},
     "outputs": [],
     "prompt_number": 2
    },
    {
     "cell_type": "code",
     "collapsed": false,
     "input": [
      "f1 = k1*a*x - k2*a*c - k4*a\n",
      "f2 = k4*a - k5*b\n",
      "f3 = k5*b - k3*c"
     ],
     "language": "python",
     "metadata": {},
     "outputs": [],
     "prompt_number": 3
    },
    {
     "cell_type": "heading",
     "level": 3,
     "metadata": {},
     "source": [
      "Fixpoints"
     ]
    },
    {
     "cell_type": "code",
     "collapsed": false,
     "input": [
      "fp1 = solve((f1,f2,f3),0,a,b,c)[0]\n",
      "fp1"
     ],
     "language": "python",
     "metadata": {},
     "outputs": [
      {
       "latex": [
        "$$\\begin{Bmatrix}a : 0, & b : 0, & c : 0\\end{Bmatrix}$$"
       ],
       "metadata": {},
       "output_type": "pyout",
       "png": "[encoded data removed]",
       "prompt_number": 24,
       "text": [
        "{a: 0, b: 0, c: 0}"
       ]
      }
     ],
     "prompt_number": 24
    },
    {
     "cell_type": "code",
     "collapsed": false,
     "input": [
      "fp2 = solve((f1,f2,f3),0,a,b,c)[1]\n",
      "fp2"
     ],
     "language": "python",
     "metadata": {},
     "outputs": [
      {
       "latex": [
        "$$\\begin{Bmatrix}a : \\frac{k_{3}}{k_{2} k_{4}} \\left(k_{1} x - k_{4}\\right), & b : \\frac{k_{3}}{k_{2} k_{5}} \\left(k_{1} x - k_{4}\\right), & c : \\frac{1}{k_{2}} \\left(k_{1} x - k_{4}\\right)\\end{Bmatrix}$$"
       ],
       "metadata": {},
       "output_type": "pyout",
       "png": "[encoded data removed]",
       "prompt_number": 23,
       "text": [
        "\u23a7   k\u2083\u22c5(k\u2081\u22c5x - k\u2084)     k\u2083\u22c5(k\u2081\u22c5x - k\u2084)     k\u2081\u22c5x - k\u2084\u23ab\n",
        "\u23a8a: \u2500\u2500\u2500\u2500\u2500\u2500\u2500\u2500\u2500\u2500\u2500\u2500\u2500\u2500, b: \u2500\u2500\u2500\u2500\u2500\u2500\u2500\u2500\u2500\u2500\u2500\u2500\u2500\u2500, c: \u2500\u2500\u2500\u2500\u2500\u2500\u2500\u2500\u2500\u23ac\n",
        "\u23a9       k\u2082\u22c5k\u2084              k\u2082\u22c5k\u2085              k\u2082   \u23ad"
       ]
      }
     ],
     "prompt_number": 23
    },
    {
     "cell_type": "heading",
     "level": 3,
     "metadata": {},
     "source": [
      "Stability"
     ]
    },
    {
     "cell_type": "code",
     "collapsed": false,
     "input": [
      "J = Matrix((f1,f2,f3)).jacobian(Matrix([a,b,c]))"
     ],
     "language": "python",
     "metadata": {},
     "outputs": [],
     "prompt_number": 5
    },
    {
     "cell_type": "code",
     "collapsed": false,
     "input": [
      "J1 = J.subs(a, fp1[a]).subs(b, fp1[b]).subs(c, fp1[c])\n",
      "J2 = J.subs(a, fp2[a]).subs(b, fp2[b]).subs(c, fp2[c])"
     ],
     "language": "python",
     "metadata": {},
     "outputs": [],
     "prompt_number": 6
    },
    {
     "cell_type": "code",
     "collapsed": false,
     "input": [
      "J1"
     ],
     "language": "python",
     "metadata": {},
     "outputs": [
      {
       "latex": [
        "$$\\left[\\begin{matrix}k_{1} x - k_{4} & 0 & 0\\\\k_{4} & - k_{5} & 0\\\\0 & k_{5} & - k_{3}\\end{matrix}\\right]$$"
       ],
       "metadata": {},
       "output_type": "pyout",
       "png": "[encoded data removed]",
       "prompt_number": 22,
       "text": [
        "\u23a1k\u2081\u22c5x - k\u2084   0    0 \u23a4\n",
        "\u23a2                   \u23a5\n",
        "\u23a2   k\u2084      -k\u2085   0 \u23a5\n",
        "\u23a2                   \u23a5\n",
        "\u23a3    0      k\u2085   -k\u2083\u23a6"
       ]
      }
     ],
     "prompt_number": 22
    },
    {
     "cell_type": "raw",
     "metadata": {},
     "source": [
      "Jacobi matrix for the first fixpoint is triangular => eigenvalues can be read from the main diagonal\n",
      "=> eigenvalues are less than zero for k1*x<k4\n",
      "=> fp1 is stable if k1*x<k4"
     ]
    },
    {
     "cell_type": "code",
     "collapsed": false,
     "input": [
      "J2"
     ],
     "language": "python",
     "metadata": {},
     "outputs": [
      {
       "latex": [
        "$$\\left[\\begin{matrix}0 & 0 & - \\frac{k_{3}}{k_{4}} \\left(k_{1} x - k_{4}\\right)\\\\k_{4} & - k_{5} & 0\\\\0 & k_{5} & - k_{3}\\end{matrix}\\right]$$"
       ],
       "metadata": {},
       "output_type": "pyout",
       "png": "[encoded data removed]",
       "prompt_number": 21,
       "text": [
        "\u23a1         -k\u2083\u22c5(k\u2081\u22c5x - k\u2084) \u23a4\n",
        "\u23a20    0   \u2500\u2500\u2500\u2500\u2500\u2500\u2500\u2500\u2500\u2500\u2500\u2500\u2500\u2500\u2500\u2500\u23a5\n",
        "\u23a2                k\u2084       \u23a5\n",
        "\u23a2                         \u23a5\n",
        "\u23a2k\u2084  -k\u2085         0        \u23a5\n",
        "\u23a2                         \u23a5\n",
        "\u23a30   k\u2085         -k\u2083       \u23a6"
       ]
      }
     ],
     "prompt_number": 21
    },
    {
     "cell_type": "raw",
     "metadata": {},
     "source": [
      "The characterical polynom will have the following form:\n",
      "lambda^3 + lambda^2*(-a11-a22-a33) + lambda*(a11*a22+a11*a33+a22*a33) - a11*a22*a33-a13*a21*a32\n",
      "In addition, we consider the coefficients in more detail:"
     ]
    },
    {
     "cell_type": "code",
     "collapsed": false,
     "input": [
      "c1 = -J2[0,0] - J2[1,1] - J2[2,2] # = -a11-a22-a33\n",
      "c2 =  J2[0,0]*J2[1,1] + J2[0,0]*J2[2,2] + J2[1,1]*J2[2,2] # = a11*a22+a11*a33+a22*a33\n",
      "c3 = -J2[0,0]*J2[1,1]*J2[2,2] - J2[0,2]*J2[1,0]*J2[2,1] # = - a11*a22*a33-a13*a21*a32"
     ],
     "language": "python",
     "metadata": {},
     "outputs": [],
     "prompt_number": 13
    },
    {
     "cell_type": "code",
     "collapsed": false,
     "input": [
      "c1, c2, c3"
     ],
     "language": "python",
     "metadata": {},
     "outputs": [
      {
       "latex": [
        "$$\\begin{pmatrix}k_{3} + k_{5}, & k_{3} k_{5}, & k_{3} k_{5} \\left(k_{1} x - k_{4}\\right)\\end{pmatrix}$$"
       ],
       "metadata": {},
       "output_type": "pyout",
       "png": "[encoded data removed]",
       "prompt_number": 27,
       "text": [
        "(k\u2083 + k\u2085, k\u2083\u22c5k\u2085, k\u2083\u22c5k\u2085\u22c5(k\u2081\u22c5x - k\u2084))"
       ]
      }
     ],
     "prompt_number": 27
    },
    {
     "cell_type": "raw",
     "metadata": {},
     "source": [
      "According to the Hurwitz criterion fp2 is stable if\n",
      "i)  c1,c2,c3 > 0\n",
      "ii) c1*c2 > c3\n",
      "=> fp2 is stable if k4<k1*x<k3+k4+k5"
     ]
    },
    {
     "cell_type": "heading",
     "level": 3,
     "metadata": {},
     "source": [
      "Bifurcation"
     ]
    },
    {
     "cell_type": "raw",
     "metadata": {},
     "source": [
      "Let's consider certain values of x which change the stability of the fixpoints.\n",
      " fp1 is stable if k1*x<k4\n",
      " fp2 is stable if k4<k1*x<k3+k4+k5\n",
      "Therefore we must ask, what is happening for i) k1*x=k4 and ii) k1*x=k3+k4+k5"
     ]
    },
    {
     "cell_type": "code",
     "collapsed": false,
     "input": [
      "J2_bif = J2.subs(k1*x, k4+k5+k3)\n",
      "J2_bif.eigenvals()"
     ],
     "language": "python",
     "metadata": {},
     "outputs": [
      {
       "latex": [
        "$$\\begin{Bmatrix}- \\sqrt{- k_{3} k_{5}} : 1, & \\sqrt{- k_{3} k_{5}} : 1, & - k_{3} - k_{5} : 1\\end{Bmatrix}$$"
       ],
       "metadata": {},
       "output_type": "pyout",
       "png": "[encoded data removed]",
       "prompt_number": 36,
       "text": [
        "\u23a7   ________       ________                \u23ab\n",
        "\u23a8-\u2572\u2571 -k\u2083\u22c5k\u2085 : 1, \u2572\u2571 -k\u2083\u22c5k\u2085 : 1, -k\u2083 - k\u2085: 1\u23ac\n",
        "\u23a9                                          \u23ad"
       ]
      }
     ],
     "prompt_number": 36
    },
    {
     "cell_type": "raw",
     "metadata": {},
     "source": [
      "Two complex conjugated eigenvalues give rise to a hopf bifurcation that means a limit cycle emerges when fp2 becomes unstable.\n",
      "To get an impression, it is now possible to do a meaningful numerical analysis:"
     ]
    },
    {
     "cell_type": "code",
     "collapsed": false,
     "input": [
      "from numpy import zeros, linspace, array\n",
      "from scipy.integrate import ode\n",
      "from pylab import figure, show, xlabel, ylabel\n",
      "from mpl_toolkits.mplot3d import Axes3D\n",
      "\n",
      "def min_bif(t, q):\n",
      "    a = q[0]\n",
      "    b = q[1]\n",
      "    c = q[2]\n",
      "    # sigma, rho and beta are global.\n",
      "    f = [a*k1x - k2*a*c - k4*a,\n",
      "         k4*a - k5*b,\n",
      "         k5*b - k3*c]\n",
      "    return f"
     ],
     "language": "python",
     "metadata": {},
     "outputs": [],
     "prompt_number": 38
    },
    {
     "cell_type": "code",
     "collapsed": false,
     "input": [
      "k1x=3 # k1*x=k3+k4+k5\n",
      "k2=1\n",
      "k3=1\n",
      "k4=1\n",
      "k5=1\n",
      "\n",
      "start = [1, 1, 1]\n",
      "t0 = 0.0\n",
      "t1 = 100.0\n",
      "dt = 0.01\n",
      "\n",
      "solver = ode(min_bif)\n",
      "\n",
      "t = []\n",
      "sol = []\n",
      "solver.set_initial_value(start, t0)\n",
      "solver.set_integrator('dopri5') # explicit runge-kutta method of order (4)5\n",
      "\n",
      "while solver.successful() and solver.t < t1:\n",
      "    solver.integrate(solver.t + dt)\n",
      "    t.append(solver.t)\n",
      "    sol.append(solver.y)\n",
      "\n",
      "t = array(t)\n",
      "sol = array(sol)\n",
      "\n",
      "fig = figure()\n",
      "ax = Axes3D(fig)\n",
      "ax.plot(sol[:,0], sol[:,1], sol[:,2])\n",
      "xlabel('a')\n",
      "ylabel('b')\n",
      "show()"
     ],
     "language": "python",
     "metadata": {},
     "outputs": [
      {
       "metadata": {},
       "output_type": "pyout",
       "prompt_number": 40,
       "text": [
        "<matplotlib.text.Text at 0x7fe762f2bbd0>"
       ]
      }
     ],
     "prompt_number": 40
    },
    {
     "cell_type": "code",
     "collapsed": false,
     "input": [],
     "language": "python",
     "metadata": {},
     "outputs": [],
     "prompt_number": 42
    },
    {
     "cell_type": "code",
     "collapsed": false,
     "input": [],
     "language": "python",
     "metadata": {},
     "outputs": []
    }
   ],
   "metadata": {}
  }
 ]
}